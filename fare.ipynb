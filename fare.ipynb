{
 "cells": [
  {
   "cell_type": "markdown",
   "id": "02ccffb5",
   "metadata": {},
   "source": [
    "# Predicción del Costo de Taxi en NYC usando solo Pandas y Numpy\n",
    "\n",
    "Este notebook hace un modelo muy simple para predecir el costo de un viaje en taxi usando sólo `pandas` y `numpy`, como práctica didáctica."
   ]
  },
  {
   "cell_type": "code",
   "execution_count": null,
   "id": "46f81e27",
   "metadata": {},
   "outputs": [],
   "source": [
    "\n",
    "# === 1. IMPORTACIÓN DE LIBRERÍAS ===\n",
    "import pandas as pd\n",
    "import numpy as np\n"
   ]
  },
  {
   "cell_type": "code",
   "execution_count": null,
   "id": "f7b30167",
   "metadata": {},
   "outputs": [],
   "source": [
    "\n",
    "# === 2. CARGA DEL DATASET ===\n",
    "df = pd.read_csv(\"train.csv\", nrows=50000)  # Leemos solo 50.000 para mayor rapidez\n",
    "df = df.dropna()  # Eliminamos filas con datos faltantes\n",
    "df.head()\n"
   ]
  },
  {
   "cell_type": "code",
   "execution_count": null,
   "id": "8ba2020b",
   "metadata": {},
   "outputs": [],
   "source": [
    "\n",
    "# === 3. FILTRADO DE VALORES EXTRAÑOS ===\n",
    "# Solo tarifas positivas y razonables\n",
    "df = df[(df['fare_amount'] > 0) & (df['fare_amount'] < 200)]\n",
    "\n",
    "# Coordenadas dentro de NYC aproximado\n",
    "df = df[\n",
    "    (df['pickup_latitude'].between(40, 42)) &\n",
    "    (df['pickup_longitude'].between(-75, -72)) &\n",
    "    (df['dropoff_latitude'].between(40, 42)) &\n",
    "    (df['dropoff_longitude'].between(-75, -72))\n",
    "]\n"
   ]
  },
  {
   "cell_type": "code",
   "execution_count": null,
   "id": "22850be3",
   "metadata": {},
   "outputs": [],
   "source": [
    "\n",
    "# === 4. CREACIÓN DE VARIABLES ===\n",
    "# Distancia euclidiana como aproximación\n",
    "df['distancia'] = np.sqrt(\n",
    "    (df['pickup_latitude'] - df['dropoff_latitude'])**2 +\n",
    "    (df['pickup_longitude'] - df['dropoff_longitude'])**2\n",
    ")\n"
   ]
  },
  {
   "cell_type": "code",
   "execution_count": null,
   "id": "fe82084e",
   "metadata": {},
   "outputs": [],
   "source": [
    "\n",
    "# === 5. MODELO SIMPLE CON NÚMEROS BASE ===\n",
    "\n",
    "# Usamos regresión lineal manual: y = b0 + b1 * distancia + b2 * pasajeros\n",
    "# Para encontrar los coeficientes, usamos una solución con matrices (mínimos cuadrados)\n",
    "\n",
    "# Matriz X con columna de 1s (intercepto), distancia y pasajeros\n",
    "X = np.column_stack((np.ones(len(df)), df['distancia'], df['passenger_count']))\n",
    "y = df['fare_amount'].values\n",
    "\n",
    "# Fórmula de mínimos cuadrados: beta = (X^T X)^(-1) X^T y\n",
    "beta = np.linalg.inv(X.T @ X) @ X.T @ y\n",
    "beta\n"
   ]
  },
  {
   "cell_type": "code",
   "execution_count": null,
   "id": "ef8a51b8",
   "metadata": {},
   "outputs": [],
   "source": [
    "\n",
    "# === 6. PRUEBA DE PREDICCIÓN ===\n",
    "# Tomamos 5 ejemplos y predecimos\n",
    "\n",
    "ejemplo = X[:5]\n",
    "predicciones = ejemplo @ beta\n",
    "print(\"Predicciones:\", predicciones)\n",
    "print(\"Valores reales:\", y[:5])\n"
   ]
  },
  {
   "cell_type": "code",
   "execution_count": null,
   "id": "4508ba6a",
   "metadata": {},
   "outputs": [],
   "source": [
    "\n",
    "# === 7. ERROR CUADRÁTICO MEDIO (RMSE) ===\n",
    "pred_todas = X @ beta\n",
    "rmse = np.sqrt(np.mean((pred_todas - y)**2))\n",
    "print(f\"RMSE del modelo lineal simple: {rmse:.2f}\")\n"
   ]
  }
 ],
 "metadata": {},
 "nbformat": 4,
 "nbformat_minor": 5
}